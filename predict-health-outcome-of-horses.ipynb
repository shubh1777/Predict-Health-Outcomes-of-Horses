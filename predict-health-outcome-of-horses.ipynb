{
 "cells": [
  {
   "cell_type": "code",
   "execution_count": null,
   "metadata": {
    "_cell_guid": "b1076dfc-b9ad-4769-8c92-a6c4dae69d19",
    "_uuid": "8f2839f25d086af736a60e9eeb907d3b93b6e0e5",
    "execution": {
     "iopub.execute_input": "2023-10-02T05:19:12.221459Z",
     "iopub.status.busy": "2023-10-02T05:19:12.220524Z",
     "iopub.status.idle": "2023-10-02T05:19:12.512648Z",
     "shell.execute_reply": "2023-10-02T05:19:12.511625Z",
     "shell.execute_reply.started": "2023-10-02T05:19:12.221428Z"
    }
   },
   "outputs": [],
   "source": []
  },
  {
   "cell_type": "markdown",
   "metadata": {},
   "source": [
    "# Libraries\n"
   ]
  },
  {
   "cell_type": "code",
   "execution_count": 1,
   "metadata": {
    "execution": {
     "iopub.execute_input": "2023-10-02T05:35:06.904387Z",
     "iopub.status.busy": "2023-10-02T05:35:06.904066Z",
     "iopub.status.idle": "2023-10-02T05:35:06.910309Z",
     "shell.execute_reply": "2023-10-02T05:35:06.909338Z",
     "shell.execute_reply.started": "2023-10-02T05:35:06.904360Z"
    }
   },
   "outputs": [
    {
     "name": "stdout",
     "output_type": "stream",
     "text": [
      "Requirement already satisfied: scikit-learn in c:\\users\\shubham kumar\\anaconda3\\lib\\site-packages (1.0.2)\n",
      "Requirement already satisfied: numpy>=1.14.6 in c:\\users\\shubham kumar\\anaconda3\\lib\\site-packages (from scikit-learn) (1.21.5)\n",
      "Requirement already satisfied: threadpoolctl>=2.0.0 in c:\\users\\shubham kumar\\anaconda3\\lib\\site-packages (from scikit-learn) (2.2.0)\n",
      "Requirement already satisfied: joblib>=0.11 in c:\\users\\shubham kumar\\anaconda3\\lib\\site-packages (from scikit-learn) (1.1.0)\n",
      "Requirement already satisfied: scipy>=1.1.0 in c:\\users\\shubham kumar\\anaconda3\\lib\\site-packages (from scikit-learn) (1.9.1)\n",
      "Requirement already satisfied: xgboost in c:\\users\\shubham kumar\\anaconda3\\lib\\site-packages (2.0.0)\n",
      "Requirement already satisfied: scipy in c:\\users\\shubham kumar\\anaconda3\\lib\\site-packages (from xgboost) (1.9.1)\n",
      "Requirement already satisfied: numpy in c:\\users\\shubham kumar\\anaconda3\\lib\\site-packages (from xgboost) (1.21.5)\n",
      "Requirement already satisfied: lightgbm in c:\\users\\shubham kumar\\anaconda3\\lib\\site-packages (4.1.0)\n",
      "Requirement already satisfied: numpy in c:\\users\\shubham kumar\\anaconda3\\lib\\site-packages (from lightgbm) (1.21.5)\n",
      "Requirement already satisfied: scipy in c:\\users\\shubham kumar\\anaconda3\\lib\\site-packages (from lightgbm) (1.9.1)\n",
      "Collecting catboost\n",
      "  Downloading catboost-1.2.2-cp39-cp39-win_amd64.whl (101.0 MB)\n",
      "     ------------------------------------ 101.0/101.0 MB 690.1 kB/s eta 0:00:00\n",
      "Requirement already satisfied: matplotlib in c:\\users\\shubham kumar\\anaconda3\\lib\\site-packages (from catboost) (3.5.2)\n",
      "Requirement already satisfied: six in c:\\users\\shubham kumar\\anaconda3\\lib\\site-packages (from catboost) (1.16.0)\n",
      "Collecting graphviz\n",
      "  Downloading graphviz-0.20.1-py3-none-any.whl (47 kB)\n",
      "     ---------------------------------------- 47.0/47.0 kB 2.5 MB/s eta 0:00:00\n",
      "Requirement already satisfied: numpy>=1.16.0 in c:\\users\\shubham kumar\\anaconda3\\lib\\site-packages (from catboost) (1.21.5)\n",
      "Requirement already satisfied: pandas>=0.24 in c:\\users\\shubham kumar\\anaconda3\\lib\\site-packages (from catboost) (1.4.4)\n",
      "Requirement already satisfied: plotly in c:\\users\\shubham kumar\\anaconda3\\lib\\site-packages (from catboost) (5.9.0)\n",
      "Requirement already satisfied: scipy in c:\\users\\shubham kumar\\anaconda3\\lib\\site-packages (from catboost) (1.9.1)\n",
      "Requirement already satisfied: pytz>=2020.1 in c:\\users\\shubham kumar\\anaconda3\\lib\\site-packages (from pandas>=0.24->catboost) (2022.1)\n",
      "Requirement already satisfied: python-dateutil>=2.8.1 in c:\\users\\shubham kumar\\anaconda3\\lib\\site-packages (from pandas>=0.24->catboost) (2.8.2)\n",
      "Requirement already satisfied: fonttools>=4.22.0 in c:\\users\\shubham kumar\\anaconda3\\lib\\site-packages (from matplotlib->catboost) (4.25.0)\n",
      "Requirement already satisfied: kiwisolver>=1.0.1 in c:\\users\\shubham kumar\\anaconda3\\lib\\site-packages (from matplotlib->catboost) (1.4.2)\n",
      "Requirement already satisfied: pillow>=6.2.0 in c:\\users\\shubham kumar\\anaconda3\\lib\\site-packages (from matplotlib->catboost) (9.2.0)\n",
      "Requirement already satisfied: pyparsing>=2.2.1 in c:\\users\\shubham kumar\\anaconda3\\lib\\site-packages (from matplotlib->catboost) (3.0.9)\n",
      "Requirement already satisfied: packaging>=20.0 in c:\\users\\shubham kumar\\anaconda3\\lib\\site-packages (from matplotlib->catboost) (21.3)\n",
      "Requirement already satisfied: cycler>=0.10 in c:\\users\\shubham kumar\\anaconda3\\lib\\site-packages (from matplotlib->catboost) (0.11.0)\n",
      "Requirement already satisfied: tenacity>=6.2.0 in c:\\users\\shubham kumar\\anaconda3\\lib\\site-packages (from plotly->catboost) (8.0.1)\n",
      "Installing collected packages: graphviz, catboost\n",
      "Successfully installed catboost-1.2.2 graphviz-0.20.1\n"
     ]
    }
   ],
   "source": [
    "import numpy as np \n",
    "import pandas as pd\n",
    "import matplotlib.pyplot as plt\n",
    "import seaborn as sns\n",
    "import os\n",
    "import copy\n",
    "!pip install scikit-learn\n",
    "!pip install xgboost\n",
    "!pip install lightgbm\n",
    "!pip install catboost\n",
    "\n",
    "from sklearn.impute import KNNImputer\n",
    "from sklearn.model_selection import train_test_split, StratifiedKFold\n",
    "from sklearn.metrics import f1_score, accuracy_score\n",
    "from xgboost import XGBClassifier\n",
    "from lightgbm import LGBMClassifier\n",
    "from catboost import CatBoostClassifier\n",
    "\n",
    "import warnings\n",
    "warnings.filterwarnings('ignore')\n",
    "\n",
    "pd.set_option('display.max_columns', None)"
   ]
  },
  {
   "cell_type": "markdown",
   "metadata": {},
   "source": [
    "# ***Load Data*** "
   ]
  },
  {
   "cell_type": "code",
   "execution_count": 2,
   "metadata": {
    "execution": {
     "iopub.execute_input": "2023-10-02T05:38:27.887580Z",
     "iopub.status.busy": "2023-10-02T05:38:27.887291Z",
     "iopub.status.idle": "2023-10-02T05:38:27.916292Z",
     "shell.execute_reply": "2023-10-02T05:38:27.915090Z",
     "shell.execute_reply.started": "2023-10-02T05:38:27.887557Z"
    }
   },
   "outputs": [],
   "source": [
    "tr = pd.read_csv('train.csv')\n",
    "tst = pd.read_csv('test.csv')\n",
    "surv = pd.read_csv('horse.csv')\n",
    "# Combine both original and training data\n",
    "tr = pd.concat([tr, surv], ignore_index=True)"
   ]
  },
  {
   "cell_type": "code",
   "execution_count": 3,
   "metadata": {
    "execution": {
     "iopub.execute_input": "2023-10-02T05:38:28.330973Z",
     "iopub.status.busy": "2023-10-02T05:38:28.330701Z",
     "iopub.status.idle": "2023-10-02T05:38:28.354766Z",
     "shell.execute_reply": "2023-10-02T05:38:28.353425Z",
     "shell.execute_reply.started": "2023-10-02T05:38:28.330953Z"
    }
   },
   "outputs": [],
   "source": [
    "# Feature transformations\n",
    "def clean_and_transform(df):\n",
    "    # change 3 to more_3_sec\n",
    "    df['capillary_refill_time'].replace({'3': 'more_3_sec'}, inplace=True)\n",
    "    # convert slight and moderate to mild pain category\n",
    "    df['pain'].replace({'slight': 'mild_pain'}, inplace=True)\n",
    "    df['pain'].replace({'moderate': 'mild_pain'}, inplace=True)\n",
    "    # clean below 3 columns\n",
    "    df['peristalsis'].replace({'distend_small': np.nan}, inplace=True)\n",
    "    df['nasogastric_reflux'].replace({'slight': np.nan}, inplace=True)\n",
    "    df['rectal_exam_feces'].replace({'serosanguious': np.nan}, inplace=True)\n",
    "    \n",
    "\n",
    "    df['lesion_1'] = df['lesion_1'].astype('str')\n",
    "    df['lesion1'] = df['lesion_1'].apply(lambda x: x+'0'*(4-len(x)) if len(x) <= 4 else x)\n",
    "    df['lesion_site'] = df['lesion1'].apply(lambda x: x[:2] if len(x) == 5 and x[0] == '1' else x[0])\n",
    "    df['lesion_type'] = df['lesion1'].apply(lambda x: x[2] if len(x) == 5 and x[0] == '1' else x[1])\n",
    "    df['lesion_subtype'] = df['lesion1'].apply(lambda x: x[3] if len(x) == 5 and x[0] == '1' else x[2])\n",
    "    df['lesion_code'] = df['lesion1'].apply(lambda x: x[-2:] if len(x) == 5 and x[0] != '1' else x[-1])\n",
    "    df.lesion_type.replace({'7': '0'}, inplace=True)\n",
    "    df = df.drop(['id', 'lesion1', 'lesion_1', 'lesion_2', 'lesion_3'], axis=1)\n",
    "    return df\n",
    "\n",
    "train = clean_and_transform(tr)\n",
    "test = clean_and_transform(tst)"
   ]
  },
  {
   "cell_type": "markdown",
   "metadata": {},
   "source": [
    "# Missing Values"
   ]
  },
  {
   "cell_type": "code",
   "execution_count": 4,
   "metadata": {
    "execution": {
     "iopub.execute_input": "2023-10-02T05:39:36.413333Z",
     "iopub.status.busy": "2023-10-02T05:39:36.412983Z",
     "iopub.status.idle": "2023-10-02T05:39:36.419495Z",
     "shell.execute_reply": "2023-10-02T05:39:36.418488Z",
     "shell.execute_reply.started": "2023-10-02T05:39:36.413302Z"
    }
   },
   "outputs": [],
   "source": [
    "# Replace categorical missing values with mode\n",
    "def impute_cat(df):\n",
    "    for col in df.select_dtypes('object').columns:\n",
    "        mode = df[col].mode().values[0]\n",
    "        df[col] = df[col].fillna(mode)\n",
    "    return df\n",
    "# Impute numerical missing values with KNN imputer\n",
    "def impute_numeric(df):\n",
    "    imputer = KNNImputer()\n",
    "    numeric_cols = df.select_dtypes('number').columns\n",
    "    df[numeric_cols] = imputer.fit_transform(df[numeric_cols])\n",
    "    return df\n",
    "train = impute_cat(train)\n",
    "train = impute_numeric(train)\n",
    "test = impute_cat(test)"
   ]
  },
  {
   "cell_type": "code",
   "execution_count": 5,
   "metadata": {
    "execution": {
     "iopub.execute_input": "2023-10-02T05:40:47.773514Z",
     "iopub.status.busy": "2023-10-02T05:40:47.773235Z",
     "iopub.status.idle": "2023-10-02T05:40:47.782427Z",
     "shell.execute_reply": "2023-10-02T05:40:47.781538Z",
     "shell.execute_reply.started": "2023-10-02T05:40:47.773491Z"
    }
   },
   "outputs": [
    {
     "data": {
      "text/plain": [
       "surgery                  0\n",
       "age                      0\n",
       "hospital_number          0\n",
       "rectal_temp              0\n",
       "pulse                    0\n",
       "respiratory_rate         0\n",
       "temp_of_extremities      0\n",
       "peripheral_pulse         0\n",
       "mucous_membrane          0\n",
       "capillary_refill_time    0\n",
       "pain                     0\n",
       "peristalsis              0\n",
       "abdominal_distention     0\n",
       "nasogastric_tube         0\n",
       "nasogastric_reflux       0\n",
       "nasogastric_reflux_ph    0\n",
       "rectal_exam_feces        0\n",
       "abdomen                  0\n",
       "packed_cell_volume       0\n",
       "total_protein            0\n",
       "abdomo_appearance        0\n",
       "abdomo_protein           0\n",
       "surgical_lesion          0\n",
       "cp_data                  0\n",
       "outcome                  0\n",
       "lesion_site              0\n",
       "lesion_type              0\n",
       "lesion_subtype           0\n",
       "lesion_code              0\n",
       "dtype: int64"
      ]
     },
     "execution_count": 5,
     "metadata": {},
     "output_type": "execute_result"
    }
   ],
   "source": [
    "#check for missing values\n",
    "train.isnull().sum()"
   ]
  },
  {
   "cell_type": "markdown",
   "metadata": {},
   "source": [
    "# Modeling"
   ]
  },
  {
   "cell_type": "code",
   "execution_count": 6,
   "metadata": {
    "execution": {
     "iopub.execute_input": "2023-10-02T05:43:50.220229Z",
     "iopub.status.busy": "2023-10-02T05:43:50.219898Z",
     "iopub.status.idle": "2023-10-02T05:43:50.942270Z",
     "shell.execute_reply": "2023-10-02T05:43:50.941712Z",
     "shell.execute_reply.started": "2023-10-02T05:43:50.220202Z"
    }
   },
   "outputs": [
    {
     "name": "stdout",
     "output_type": "stream",
     "text": [
      "Validation accuracy: 0.7857142857142857\n",
      "Micro-averaged F1-Score: 0.7857142857142857\n"
     ]
    }
   ],
   "source": [
    "X = pd.get_dummies(train.drop('outcome', axis=1))\n",
    "y = tr['outcome'].map(({'died': 0, 'lived': 1, 'euthanized': 2}))\n",
    "\n",
    "X_train, X_test, y_train, y_test = train_test_split(X, y, test_size=0.1, stratify=y, random_state=25)\n",
    "\n",
    "xgb = XGBClassifier()\n",
    "xgb.fit(X_train, y_train)\n",
    "y_preds = xgb.predict(X_test)\n",
    "mcrF = f1_score(y_test, y_preds, average='micro')\n",
    "print(\"Validation accuracy:\", accuracy_score(y_test, y_preds))\n",
    "print(\"Micro-averaged F1-Score:\", mcrF)"
   ]
  },
  {
   "cell_type": "code",
   "execution_count": 8,
   "metadata": {
    "execution": {
     "iopub.execute_input": "2023-10-02T05:45:30.609084Z",
     "iopub.status.busy": "2023-10-02T05:45:30.608744Z",
     "iopub.status.idle": "2023-10-02T05:45:30.953841Z",
     "shell.execute_reply": "2023-10-02T05:45:30.952768Z",
     "shell.execute_reply.started": "2023-10-02T05:45:30.609056Z"
    }
   },
   "outputs": [
    {
     "data": {
      "image/png": "[encoded data removed]",
      "text/plain": [
       "<Figure size 800x600 with 1 Axes>"
      ]
     },
     "metadata": {},
     "output_type": "display_data"
    }
   ],
   "source": [
    "# Plot feature importances\n",
    "ftr_imp = pd.DataFrame({'feature': X_train.columns, 'Importance': xgb.feature_importances_}) \n",
    "ftr_imp = ftr_imp.sort_values('Importance', ascending=False)\n",
    "plt.figure(figsize=(8,6))\n",
    "sns.barplot(data=ftr_imp[:30], x='Importance', y='feature', palette='winter')\n",
    "plt.title(\"XGBoost Feature importances\")\n",
    "plt.show()"
   ]
  },
  {
   "cell_type": "code",
   "execution_count": 9,
   "metadata": {
    "execution": {
     "iopub.execute_input": "2023-10-02T05:45:54.466768Z",
     "iopub.status.busy": "2023-10-02T05:45:54.466463Z",
     "iopub.status.idle": "2023-10-02T05:45:54.472721Z",
     "shell.execute_reply": "2023-10-02T05:45:54.471786Z",
     "shell.execute_reply.started": "2023-10-02T05:45:54.466748Z"
    }
   },
   "outputs": [
    {
     "data": {
      "text/plain": [
       "(107, 2)"
      ]
     },
     "execution_count": 9,
     "metadata": {},
     "output_type": "execute_result"
    }
   ],
   "source": [
    "ftr_imp.shape"
   ]
  },
  {
   "cell_type": "code",
   "execution_count": 10,
   "metadata": {
    "execution": {
     "iopub.execute_input": "2023-10-02T05:48:56.559320Z",
     "iopub.status.busy": "2023-10-02T05:48:56.559020Z",
     "iopub.status.idle": "2023-10-02T05:50:09.650423Z",
     "shell.execute_reply": "2023-10-02T05:50:09.649489Z",
     "shell.execute_reply.started": "2023-10-02T05:48:56.559298Z"
    }
   },
   "outputs": [
    {
     "name": "stdout",
     "output_type": "stream",
     "text": [
      "----------Model scores with 0.0 feature threshold----------\n",
      "[LightGBM] [Info] Auto-choosing row-wise multi-threading, the overhead of testing was 0.000274 seconds.\n",
      "You can set `force_row_wise=true` to remove the overhead.\n",
      "And if memory is not enough, you can set `force_col_wise=true`.\n",
      "[LightGBM] [Info] Total Bins 792\n",
      "[LightGBM] [Info] Number of data points in the train set: 1380, number of used features: 90\n",
      "[LightGBM] [Info] Start training from score -1.147620\n",
      "[LightGBM] [Info] Start training from score -0.712168\n",
      "[LightGBM] [Info] Start training from score -1.650109\n",
      "0.774891774891775\n",
      "----------Model scores with 0.001 feature threshold----------\n",
      "[LightGBM] [Info] Auto-choosing col-wise multi-threading, the overhead of testing was 0.000253 seconds.\n",
      "You can set `force_col_wise=true` to remove the overhead.\n",
      "[LightGBM] [Info] Total Bins 792\n",
      "[LightGBM] [Info] Number of data points in the train set: 1380, number of used features: 90\n",
      "[LightGBM] [Info] Start training from score -1.147620\n",
      "[LightGBM] [Info] Start training from score -0.712168\n",
      "[LightGBM] [Info] Start training from score -1.650109\n",
      "0.774891774891775\n",
      "----------Model scores with 0.002 feature threshold----------\n",
      "[LightGBM] [Info] Auto-choosing col-wise multi-threading, the overhead of testing was 0.000199 seconds.\n",
      "You can set `force_col_wise=true` to remove the overhead.\n",
      "[LightGBM] [Info] Total Bins 792\n",
      "[LightGBM] [Info] Number of data points in the train set: 1380, number of used features: 90\n",
      "[LightGBM] [Info] Start training from score -1.147620\n",
      "[LightGBM] [Info] Start training from score -0.712168\n",
      "[LightGBM] [Info] Start training from score -1.650109\n",
      "0.774891774891775\n",
      "----------Model scores with 0.003 feature threshold----------\n",
      "[LightGBM] [Info] Auto-choosing col-wise multi-threading, the overhead of testing was 0.000293 seconds.\n",
      "You can set `force_col_wise=true` to remove the overhead.\n",
      "[LightGBM] [Info] Total Bins 792\n",
      "[LightGBM] [Info] Number of data points in the train set: 1380, number of used features: 90\n",
      "[LightGBM] [Info] Start training from score -1.147620\n",
      "[LightGBM] [Info] Start training from score -0.712168\n",
      "[LightGBM] [Info] Start training from score -1.650109\n",
      "0.774891774891775\n",
      "----------Model scores with 0.004 feature threshold----------\n",
      "[LightGBM] [Info] Auto-choosing col-wise multi-threading, the overhead of testing was 0.000260 seconds.\n",
      "You can set `force_col_wise=true` to remove the overhead.\n",
      "[LightGBM] [Info] Total Bins 782\n",
      "[LightGBM] [Info] Number of data points in the train set: 1380, number of used features: 85\n",
      "[LightGBM] [Info] Start training from score -1.147620\n",
      "[LightGBM] [Info] Start training from score -0.712168\n",
      "[LightGBM] [Info] Start training from score -1.650109\n",
      "0.777056277056277\n",
      "----------Model scores with 0.005 feature threshold----------\n",
      "[LightGBM] [Info] Auto-choosing col-wise multi-threading, the overhead of testing was 0.001268 seconds.\n",
      "You can set `force_col_wise=true` to remove the overhead.\n",
      "[LightGBM] [Info] Total Bins 772\n",
      "[LightGBM] [Info] Number of data points in the train set: 1380, number of used features: 80\n",
      "[LightGBM] [Info] Start training from score -1.147620\n",
      "[LightGBM] [Info] Start training from score -0.712168\n",
      "[LightGBM] [Info] Start training from score -1.650109\n",
      "0.774891774891775\n",
      "----------Model scores with 0.006 feature threshold----------\n",
      "[LightGBM] [Info] Auto-choosing col-wise multi-threading, the overhead of testing was 0.000741 seconds.\n",
      "You can set `force_col_wise=true` to remove the overhead.\n",
      "[LightGBM] [Info] Total Bins 750\n",
      "[LightGBM] [Info] Number of data points in the train set: 1380, number of used features: 69\n",
      "[LightGBM] [Info] Start training from score -1.147620\n",
      "[LightGBM] [Info] Start training from score -0.712168\n",
      "[LightGBM] [Info] Start training from score -1.650109\n",
      "0.7835497835497834\n",
      "----------Model scores with 0.007 feature threshold----------\n",
      "[LightGBM] [Info] Auto-choosing row-wise multi-threading, the overhead of testing was 0.000377 seconds.\n",
      "You can set `force_row_wise=true` to remove the overhead.\n",
      "And if memory is not enough, you can set `force_col_wise=true`.\n",
      "[LightGBM] [Info] Total Bins 412\n",
      "[LightGBM] [Info] Number of data points in the train set: 1380, number of used features: 56\n",
      "[LightGBM] [Info] Start training from score -1.147620\n",
      "[LightGBM] [Info] Start training from score -0.712168\n",
      "[LightGBM] [Info] Start training from score -1.650109\n",
      "0.7683982683982684\n",
      "----------Model scores with 0.008 feature threshold----------\n",
      "[LightGBM] [Info] Auto-choosing row-wise multi-threading, the overhead of testing was 0.000319 seconds.\n",
      "You can set `force_row_wise=true` to remove the overhead.\n",
      "And if memory is not enough, you can set `force_col_wise=true`.\n",
      "[LightGBM] [Info] Total Bins 256\n",
      "[LightGBM] [Info] Number of data points in the train set: 1380, number of used features: 39\n",
      "[LightGBM] [Info] Start training from score -1.147620\n",
      "[LightGBM] [Info] Start training from score -0.712168\n",
      "[LightGBM] [Info] Start training from score -1.650109\n",
      "0.7056277056277057\n",
      "----------Model scores with 0.009 feature threshold----------\n",
      "[LightGBM] [Info] Auto-choosing col-wise multi-threading, the overhead of testing was 0.000412 seconds.\n",
      "You can set `force_col_wise=true` to remove the overhead.\n",
      "[LightGBM] [Info] Total Bins 242\n",
      "[LightGBM] [Info] Number of data points in the train set: 1380, number of used features: 32\n",
      "[LightGBM] [Info] Start training from score -1.147620\n",
      "[LightGBM] [Info] Start training from score -0.712168\n",
      "[LightGBM] [Info] Start training from score -1.650109\n",
      "0.7316017316017316\n",
      "----------Model scores with 0.01 feature threshold----------\n",
      "[LightGBM] [Info] Auto-choosing row-wise multi-threading, the overhead of testing was 0.000273 seconds.\n",
      "You can set `force_row_wise=true` to remove the overhead.\n",
      "And if memory is not enough, you can set `force_col_wise=true`.\n",
      "[LightGBM] [Info] Total Bins 234\n",
      "[LightGBM] [Info] Number of data points in the train set: 1380, number of used features: 28\n",
      "[LightGBM] [Info] Start training from score -1.147620\n",
      "[LightGBM] [Info] Start training from score -0.712168\n",
      "[LightGBM] [Info] Start training from score -1.650109\n",
      "0.7207792207792206\n"
     ]
    }
   ],
   "source": [
    "# Evaluating models on different thresholds\n",
    "def model_score():\n",
    "    thresholds = [0.0, 0.001, 0.002, 0.003, 0.004, 0.005, 0.006, 0.007, 0.008, 0.009, 0.01]\n",
    "    models = {'xgb': XGBClassifier(random_state=24), \n",
    "               'lgbm': LGBMClassifier(random_state=24), \n",
    "               'cat': CatBoostClassifier(verbose=False, random_state=24)}\n",
    "    for thresh in thresholds:\n",
    "        imp_cols = ftr_imp[ftr_imp['Importance'] > thresh]['feature'].values.tolist()\n",
    "        print(f\"----------Model scores with {thresh} feature threshold----------\")\n",
    "        Xf = X[imp_cols]\n",
    "    #     y = train['outcome'].map(({'died': 0,'lived': 1,'euthanized': 2}))\n",
    "        X_train, X_test, y_train, y_test = train_test_split(Xf, y, test_size=0.1, stratify=y, random_state=25)\n",
    "        Fscores = []\n",
    "        for k, mod in models.items():\n",
    "            mod.fit(X_train, y_train)\n",
    "            y_preds = mod.predict(X_test)\n",
    "            microF = f1_score(y_test, y_preds, average='micro')\n",
    "#             print(f\"MODEL: {k}\")\n",
    "#             print(\"Validation accuracy:\", accuracy_score(y_test, y_preds))\n",
    "#             print(\"Micro-averaged F1-Score:\", microF)\n",
    "            Fscores.append(microF)\n",
    "#             print(\"*\"*50)\n",
    "        print(np.mean(Fscores))\n",
    "model_score()"
   ]
  },
  {
   "cell_type": "code",
   "execution_count": 11,
   "metadata": {
    "execution": {
     "iopub.execute_input": "2023-10-02T05:50:27.544544Z",
     "iopub.status.busy": "2023-10-02T05:50:27.544241Z",
     "iopub.status.idle": "2023-10-02T05:50:27.550949Z",
     "shell.execute_reply": "2023-10-02T05:50:27.549717Z",
     "shell.execute_reply.started": "2023-10-02T05:50:27.544521Z"
    }
   },
   "outputs": [
    {
     "name": "stdout",
     "output_type": "stream",
     "text": [
      "Number of important features: 96\n",
      "Number of uninformative features: 11\n"
     ]
    }
   ],
   "source": [
    "features = ftr_imp[ftr_imp['Importance'] > 0.0]['feature'].values.tolist()\n",
    "print(f\"Number of important features: {len(features)}\")\n",
    "print(f\"Number of uninformative features: {len(ftr_imp)-len(features)}\")"
   ]
  },
  {
   "cell_type": "markdown",
   "metadata": {},
   "source": [
    "# Modeling with selected features"
   ]
  },
  {
   "cell_type": "markdown",
   "metadata": {},
   "source": [
    "I will be doing stratified split with 9 folds so that 11% data can be used for validation. This is done to replicate the behaviour of the Public LB because it also contains about 20% of the original test data which comes out to be 164 datapoints. Our training data data has 1534 datapoints and 11% roughly comes out to be around 168 which can give the feel of the public LB test data."
   ]
  },
  {
   "cell_type": "code",
   "execution_count": 16,
   "metadata": {
    "execution": {
     "iopub.execute_input": "2023-10-02T05:56:39.281019Z",
     "iopub.status.busy": "2023-10-02T05:56:39.280638Z",
     "iopub.status.idle": "2023-10-02T05:57:13.752767Z",
     "shell.execute_reply": "2023-10-02T05:57:13.751431Z",
     "shell.execute_reply.started": "2023-10-02T05:56:39.280995Z"
    }
   },
   "outputs": [
    {
     "name": "stdout",
     "output_type": "stream",
     "text": [
      "[LightGBM] [Info] Auto-choosing col-wise multi-threading, the overhead of testing was 0.000223 seconds.\n",
      "You can set `force_col_wise=true` to remove the overhead.\n",
      "[LightGBM] [Info] Total Bins 799\n",
      "[LightGBM] [Info] Number of data points in the train set: 1363, number of used features: 90\n",
      "[LightGBM] [Info] Start training from score -1.149018\n",
      "[LightGBM] [Info] Start training from score -0.713155\n",
      "[LightGBM] [Info] Start training from score -1.645289\n",
      "------FOLD 1------\n",
      "XGBoost score: 0.7485380116959063\n",
      "LGBM score: 0.7251461988304092\n",
      "[LightGBM] [Info] Auto-choosing col-wise multi-threading, the overhead of testing was 0.000447 seconds.\n",
      "You can set `force_col_wise=true` to remove the overhead.\n",
      "[LightGBM] [Info] Total Bins 799\n",
      "[LightGBM] [Info] Number of data points in the train set: 1363, number of used features: 90\n",
      "[LightGBM] [Info] Start training from score -1.146706\n",
      "[LightGBM] [Info] Start training from score -0.713155\n",
      "[LightGBM] [Info] Start training from score -1.649099\n",
      "------FOLD 2------\n",
      "XGBoost score: 0.7251461988304092\n",
      "LGBM score: 0.7134502923976607\n",
      "[LightGBM] [Info] Auto-choosing col-wise multi-threading, the overhead of testing was 0.000345 seconds.\n",
      "You can set `force_col_wise=true` to remove the overhead.\n",
      "[LightGBM] [Info] Total Bins 795\n",
      "[LightGBM] [Info] Number of data points in the train set: 1363, number of used features: 89\n",
      "[LightGBM] [Info] Start training from score -1.146706\n",
      "[LightGBM] [Info] Start training from score -0.713155\n",
      "[LightGBM] [Info] Start training from score -1.649099\n",
      "------FOLD 3------\n",
      "XGBoost score: 0.7953216374269005\n",
      "LGBM score: 0.8011695906432749\n",
      "[LightGBM] [Info] Auto-choosing col-wise multi-threading, the overhead of testing was 0.000435 seconds.\n",
      "You can set `force_col_wise=true` to remove the overhead.\n",
      "[LightGBM] [Info] Total Bins 795\n",
      "[LightGBM] [Info] Number of data points in the train set: 1363, number of used features: 90\n",
      "[LightGBM] [Info] Start training from score -1.146706\n",
      "[LightGBM] [Info] Start training from score -0.713155\n",
      "[LightGBM] [Info] Start training from score -1.649099\n",
      "------FOLD 4------\n",
      "XGBoost score: 0.7777777777777778\n",
      "LGBM score: 0.783625730994152\n",
      "[LightGBM] [Info] Auto-choosing col-wise multi-threading, the overhead of testing was 0.000426 seconds.\n",
      "You can set `force_col_wise=true` to remove the overhead.\n",
      "[LightGBM] [Info] Total Bins 786\n",
      "[LightGBM] [Info] Number of data points in the train set: 1364, number of used features: 90\n",
      "[LightGBM] [Info] Start training from score -1.147439\n",
      "[LightGBM] [Info] Start training from score -0.712393\n",
      "[LightGBM] [Info] Start training from score -1.649832\n",
      "------FOLD 5------\n",
      "XGBoost score: 0.7294117647058823\n",
      "LGBM score: 0.7411764705882353\n",
      "[LightGBM] [Info] Auto-choosing col-wise multi-threading, the overhead of testing was 0.000382 seconds.\n",
      "You can set `force_col_wise=true` to remove the overhead.\n",
      "[LightGBM] [Info] Total Bins 798\n",
      "[LightGBM] [Info] Number of data points in the train set: 1364, number of used features: 90\n",
      "[LightGBM] [Info] Start training from score -1.147439\n",
      "[LightGBM] [Info] Start training from score -0.712393\n",
      "[LightGBM] [Info] Start training from score -1.649832\n",
      "------FOLD 6------\n",
      "XGBoost score: 0.7411764705882353\n",
      "LGBM score: 0.7411764705882353\n",
      "[LightGBM] [Info] Auto-choosing col-wise multi-threading, the overhead of testing was 0.000593 seconds.\n",
      "You can set `force_col_wise=true` to remove the overhead.\n",
      "[LightGBM] [Info] Total Bins 797\n",
      "[LightGBM] [Info] Number of data points in the train set: 1364, number of used features: 90\n",
      "[LightGBM] [Info] Start training from score -1.147439\n",
      "[LightGBM] [Info] Start training from score -0.712393\n",
      "[LightGBM] [Info] Start training from score -1.649832\n",
      "------FOLD 7------\n",
      "XGBoost score: 0.711764705882353\n",
      "LGBM score: 0.6705882352941176\n",
      "[LightGBM] [Info] Auto-choosing col-wise multi-threading, the overhead of testing was 0.000282 seconds.\n",
      "You can set `force_col_wise=true` to remove the overhead.\n",
      "[LightGBM] [Info] Total Bins 796\n",
      "[LightGBM] [Info] Number of data points in the train set: 1364, number of used features: 90\n",
      "[LightGBM] [Info] Start training from score -1.147439\n",
      "[LightGBM] [Info] Start training from score -0.712393\n",
      "[LightGBM] [Info] Start training from score -1.649832\n",
      "------FOLD 8------\n",
      "XGBoost score: 0.7588235294117647\n",
      "LGBM score: 0.7529411764705881\n",
      "[LightGBM] [Info] Auto-choosing col-wise multi-threading, the overhead of testing was 0.000299 seconds.\n",
      "You can set `force_col_wise=true` to remove the overhead.\n",
      "[LightGBM] [Info] Total Bins 791\n",
      "[LightGBM] [Info] Number of data points in the train set: 1364, number of used features: 90\n",
      "[LightGBM] [Info] Start training from score -1.147439\n",
      "[LightGBM] [Info] Start training from score -0.713889\n",
      "[LightGBM] [Info] Start training from score -1.646023\n",
      "------FOLD 9------\n",
      "XGBoost score: 0.7176470588235294\n",
      "LGBM score: 0.735294117647059\n",
      "\n",
      "Mean F-score for XGBoost\n",
      "0.7450674616825288\n",
      "Mean F-score for LGBM\n",
      "0.7405075870504148\n",
      "Combined mean score: 0.7427875243664717\n"
     ]
    }
   ],
   "source": [
    "X = pd.get_dummies(train.drop('outcome', axis=1))\n",
    "y = tr['outcome'].map(({'died': 0,'lived': 1,'euthanized': 2}))\n",
    "folds = 9\n",
    "# Stratified split with 11% validation data in each split\n",
    "skf = StratifiedKFold(n_splits=folds, shuffle=True, random_state=24)\n",
    "f1, f2 = 0.0, 0.0\n",
    "\n",
    "for fold, (train_idx, val_idx) in enumerate(skf.split(X, y)):\n",
    "    X_train, y_train = X.iloc[train_idx][features], y.iloc[train_idx]\n",
    "    X_valid, y_valid = X.iloc[val_idx][features], y.iloc[val_idx]\n",
    "    \n",
    "    model_xgb = XGBClassifier(verbosity=1)\n",
    "   # model_lgbm = LGBMClassifier()\n",
    "    model_lgbm = LGBMClassifier(verbosity=1)\n",
    "\n",
    "    \n",
    "    model_xgb.fit(X_train, y_train)\n",
    "    model_lgbm.fit(X_train, y_train)\n",
    "    \n",
    "    val_preds_xgb = model_xgb.predict(X_valid)\n",
    "    val_preds_lgbm = model_lgbm.predict(X_valid)\n",
    "    \n",
    "    F_score_xgb = f1_score(y_valid, val_preds_xgb, average='micro')\n",
    "    F_score_lgbm = f1_score(y_valid, val_preds_lgbm, average='micro')\n",
    "    f1 += F_score_xgb\n",
    "    f2 += F_score_lgbm\n",
    "    \n",
    "    print(f\"------FOLD {fold+1}------\")\n",
    "    print(\"XGBoost score:\", F_score_xgb)\n",
    "    print(\"LGBM score:\", F_score_lgbm)\n",
    "    \n",
    "print(\"\\nMean F-score for XGBoost\")\n",
    "print(f1/folds)\n",
    "print(\"Mean F-score for LGBM\")\n",
    "print(f2/folds)\n",
    "print(\"Combined mean score:\", (f1+f2)/(2*folds))"
   ]
  },
  {
   "cell_type": "markdown",
   "metadata": {},
   "source": [
    "# Final Prediction"
   ]
  },
  {
   "cell_type": "code",
   "execution_count": 17,
   "metadata": {
    "execution": {
     "iopub.execute_input": "2023-10-02T05:57:21.905678Z",
     "iopub.status.busy": "2023-10-02T05:57:21.905360Z",
     "iopub.status.idle": "2023-10-02T05:57:23.477123Z",
     "shell.execute_reply": "2023-10-02T05:57:23.476059Z",
     "shell.execute_reply.started": "2023-10-02T05:57:21.905636Z"
    }
   },
   "outputs": [],
   "source": [
    "final_feat = ftr_imp[ftr_imp['Importance'] > 0.0]['feature'].values.tolist()\n",
    "X_final = pd.get_dummies(test)[final_feat]\n",
    "xgb = XGBClassifier()\n",
    "xgb.fit(X[final_feat], y)\n",
    "preds = xgb.predict(X_final)"
   ]
  },
  {
   "cell_type": "markdown",
   "metadata": {},
   "source": [
    "# Submission"
   ]
  },
  {
   "cell_type": "code",
   "execution_count": 20,
   "metadata": {
    "execution": {
     "iopub.execute_input": "2023-10-02T05:57:23.479406Z",
     "iopub.status.busy": "2023-10-02T05:57:23.478687Z",
     "iopub.status.idle": "2023-10-02T05:57:23.489819Z",
     "shell.execute_reply": "2023-10-02T05:57:23.488855Z",
     "shell.execute_reply.started": "2023-10-02T05:57:23.479384Z"
    }
   },
   "outputs": [],
   "source": [
    "sub = pd.read_csv('sample_submission.csv')\n",
    "sub['outcome'] = preds\n",
    "sub['outcome'] = sub['outcome'].map({0: 'died', 1: 'lived', 2: 'euthanized'})\n",
    "sub.to_csv(\"submision.csv\", index=False)"
   ]
  },
  {
   "cell_type": "code",
   "execution_count": null,
   "metadata": {},
   "outputs": [],
   "source": []
  },
  {
   "cell_type": "code",
   "execution_count": null,
   "metadata": {},
   "outputs": [],
   "source": []
  }
 ],
 "metadata": {
  "kernelspec": {
   "display_name": "Python 3 (ipykernel)",
   "language": "python",
   "name": "python3"
  },
  "language_info": {
   "codemirror_mode": {
    "name": "ipython",
    "version": 3
   },
   "file_extension": ".py",
   "mimetype": "text/x-python",
   "name": "python",
   "nbconvert_exporter": "python",
   "pygments_lexer": "ipython3",
   "version": "3.9.13"
  }
 },
 "nbformat": 4,
 "nbformat_minor": 4
}
